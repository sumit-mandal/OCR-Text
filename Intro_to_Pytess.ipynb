{
 "cells": [
  {
   "cell_type": "code",
   "execution_count": 1,
   "id": "569674f0-64fd-4fc4-a75b-9177a337449b",
   "metadata": {},
   "outputs": [],
   "source": [
    "import pytesseract\n",
    "from PIL import Image"
   ]
  },
  {
   "cell_type": "code",
   "execution_count": 3,
   "id": "03ae5cf1-b9f3-49a7-ac53-84e024f8954a",
   "metadata": {},
   "outputs": [],
   "source": [
    "img_file = \"data/page_01.jpg\"\n",
    "no_noise = 'temp/no_noise.jpg'"
   ]
  },
  {
   "cell_type": "code",
   "execution_count": 9,
   "id": "755482d9-e2ed-4d4d-b662-b2305b7efc1d",
   "metadata": {},
   "outputs": [],
   "source": [
    "img = Image.open(no_noise)"
   ]
  },
  {
   "cell_type": "code",
   "execution_count": 10,
   "id": "0c591b0c-dcb1-49cd-b867-b8fe4953ea92",
   "metadata": {},
   "outputs": [],
   "source": [
    "ocr_result = pytesseract.image_to_string(img)"
   ]
  },
  {
   "cell_type": "code",
   "execution_count": 11,
   "id": "808ed572-6734-4c37-bcd9-5446c6e600e2",
   "metadata": {},
   "outputs": [
    {
     "name": "stdout",
     "output_type": "stream",
     "text": [
      "“GABRIEL Mermace\n",
      "\n",
      "Qn Easter motning in the year 175, I took my six-year-old\n",
      "son by the hand and beran walking fron my home town toward the\n",
      "valleys and forests of the Carpathirs rountains. For nearly\n",
      "eight months we lived in barns, attics and makeshift cabins. “ith\n",
      "the (ESOS help of an unusually courageous man, we managed to\n",
      "survive Europe's greatest fit of madness. Those who walked in\n",
      "the opposite direction on that Easter day were less fortunate.\n",
      "They wore taken in trainloads to places whose once obscure nanes\n",
      "are now, and forever will be, synonymous with terror, evil and\n",
      "death. What follows is our story of survival told to the best\n",
      "of my ability, in plain, simple languare.\n",
      "\n",
      "In March of 1944 the SS troops took over the internal affeirs\n",
      "of Hungary and proceeded to organize the deportation of the Jews.\n",
      "™> the Nazis this was a routine assignment; within hours all local\n",
      "officials were informed of operational plans. The high command\n",
      "issued a directive designed to placate Jewish fears and induce\n",
      "cooperation. It was announced that the Jews would be shipped to\n",
      "Poler:i as an emergency labor force and that they were only being\n",
      "drafted for temporary vork. There were many who believed this\n",
      "version. Others, less credulous, resigred themselves and hoped for\n",
      "the best. Still others began to make plans for escape. By Apris\n",
      "13 the Hungarian Jews were being rounded up from all over the\n",
      "country kn what was once a huge brick factory. The rest is well\n",
      "known. :\n",
      "\n",
      "I was working in Urevar and usually came home on weekends.\n",
      "\n",
      "At that time it was no lonser possizle for a Jew to travel freely.\n",
      "\n",
      "1\n",
      "\n",
      " \n",
      "\n"
     ]
    }
   ],
   "source": [
    "print(ocr_result)"
   ]
  },
  {
   "cell_type": "code",
   "execution_count": null,
   "id": "245815ca-ea97-4dd8-a7c5-20aa121a4ba8",
   "metadata": {},
   "outputs": [],
   "source": [
    "!git add Intro_to_Pytess.ipynb BoundingBoxes_index.ipynb\n",
    "! git commit -m \"12:20/13-03-2022\"\n",
    "! git push origin main"
   ]
  }
 ],
 "metadata": {
  "kernelspec": {
   "display_name": "Python [conda env:nlpenv]",
   "language": "python",
   "name": "conda-env-nlpenv-py"
  },
  "language_info": {
   "codemirror_mode": {
    "name": "ipython",
    "version": 3
   },
   "file_extension": ".py",
   "mimetype": "text/x-python",
   "name": "python",
   "nbconvert_exporter": "python",
   "pygments_lexer": "ipython3",
   "version": "3.7.11"
  }
 },
 "nbformat": 4,
 "nbformat_minor": 5
}
